{
  "nbformat": 4,
  "nbformat_minor": 0,
  "metadata": {
    "colab": {
      "provenance": [],
      "authorship_tag": "ABX9TyNfwE0sevoWJwuJQxaD+gT+",
      "include_colab_link": true
    },
    "kernelspec": {
      "name": "python3",
      "display_name": "Python 3"
    },
    "language_info": {
      "name": "python"
    }
  },
  "cells": [
    {
      "cell_type": "markdown",
      "metadata": {
        "id": "view-in-github",
        "colab_type": "text"
      },
      "source": [
        "<a href=\"https://colab.research.google.com/github/Srivarsha34/SE/blob/main/SE_week2.ipynb\" target=\"_parent\"><img src=\"https://colab.research.google.com/assets/colab-badge.svg\" alt=\"Open In Colab\"/></a>"
      ]
    },
    {
      "cell_type": "code",
      "execution_count": null,
      "metadata": {
        "id": "uw21QafmlHiS"
      },
      "outputs": [],
      "source": [
        "def Temperature_modelling(a,b,c,time):\n",
        "  temperature = a*time**2+b*time+c\n",
        "  return temperature"
      ]
    },
    {
      "cell_type": "code",
      "source": [
        "#Hardcoded variables\n",
        "a,b,c = 0.1,2,10\n",
        "time = 5"
      ],
      "metadata": {
        "id": "QK0_9DFDmBJA"
      },
      "execution_count": null,
      "outputs": []
    },
    {
      "cell_type": "code",
      "source": [
        "print(\"HARD-coded variables for weather modelling\")\n",
        "print(\"Temperature for hardcoded coefficients at time\",time,\"hours:\",Temperature_modelling(a,b,c,time))"
      ],
      "metadata": {
        "colab": {
          "base_uri": "https://localhost:8080/"
        },
        "id": "pDQzZkIumX6A",
        "outputId": "cf366e65-c462-47a4-8fa2-87c56cbc180a"
      },
      "execution_count": null,
      "outputs": [
        {
          "output_type": "stream",
          "name": "stdout",
          "text": [
            "HARD-coded variables for weather modelling\n",
            "Temperature for hardcoded coefficients at time 5 hours: 22.5\n"
          ]
        }
      ]
    },
    {
      "cell_type": "code",
      "source": [
        "a=float(input(\"Enter coefficient a:\"))\n",
        "b=float(input(\"Enter coefficient b:\"))\n",
        "c=float(input(\"Enter coefficient c:\"))"
      ],
      "metadata": {
        "colab": {
          "base_uri": "https://localhost:8080/"
        },
        "id": "tZyz7XTRm2x_",
        "outputId": "ac55016e-4b3b-448b-f39f-639fccb194ec"
      },
      "execution_count": null,
      "outputs": [
        {
          "name": "stdout",
          "output_type": "stream",
          "text": [
            "Enter coefficient a:0.1\n",
            "Enter coefficient b:2\n",
            "Enter coefficient c:10\n"
          ]
        }
      ]
    },
    {
      "cell_type": "code",
      "source": [
        "time = float(input(\"enter time\"))"
      ],
      "metadata": {
        "colab": {
          "base_uri": "https://localhost:8080/"
        },
        "id": "lelF0Z2Axj7D",
        "outputId": "7f8c955d-17be-4d0a-a8c4-e82f53cd5ed7"
      },
      "execution_count": null,
      "outputs": [
        {
          "name": "stdout",
          "output_type": "stream",
          "text": [
            "enter time4\n"
          ]
        }
      ]
    },
    {
      "cell_type": "code",
      "source": [
        "print(\"HARD-coded variables for weather modelling\")\n",
        "print(\"Temperature from keyboard coefficients at time\",time,\"hours:\",Temperature_modelling(a,b,c,time))"
      ],
      "metadata": {
        "id": "izXn5Hddx3IT"
      },
      "execution_count": null,
      "outputs": []
    },
    {
      "cell_type": "code",
      "source": [
        "def read_from_file(filename):\n",
        "  with open(filename,'r') as file:\n",
        "    lines = file.readlines()\n",
        "  coefficients = [tuple(map(float,line.strip().split(','))) for line in lines]\n",
        "  return coefficients"
      ],
      "metadata": {
        "id": "K8JVF2u4ncx_"
      },
      "execution_count": null,
      "outputs": []
    },
    {
      "cell_type": "code",
      "source": [
        "coefficients = read_from_file('/content/Input.txt')\n",
        "a,b,c,time = coefficients[0]\n",
        "temperature = Temperature_modelling(a,b,c,time)\n",
        "print(\"read from a file for weather modelling\")\n",
        "print(\"Temperature from keyboard coefficients aty time\",time,\"hours:\",Temperature_modelling(a,b,c,time))"
      ],
      "metadata": {
        "colab": {
          "base_uri": "https://localhost:8080/"
        },
        "id": "WzSmBmUAyTu6",
        "outputId": "974a161c-e244-4d88-d766-3870d0f13b87"
      },
      "execution_count": null,
      "outputs": [
        {
          "output_type": "stream",
          "name": "stdout",
          "text": [
            "read from a file for weather modelling\n",
            "Temperature from keyboard coefficients aty time 1.0 hours: 5.0\n"
          ]
        }
      ]
    },
    {
      "cell_type": "code",
      "source": [
        "for idx, (a,b,c,time) in enumerate(coefficients):\n",
        "  temperature = Temperature_modelling(a,b,c,time)\n",
        "  print(\"Temperature from keyboard coefficients at time\",time,\"hours:\",Temperature_modelling(a,b,c,time))"
      ],
      "metadata": {
        "colab": {
          "base_uri": "https://localhost:8080/"
        },
        "id": "cm_JqzIN0cL7",
        "outputId": "d5bdc007-8df4-4a77-aecc-87b130b84b59"
      },
      "execution_count": null,
      "outputs": [
        {
          "output_type": "stream",
          "name": "stdout",
          "text": [
            "Temperature from keyboard coefficients at time 1.0 hours: 5.0\n",
            "Temperature from keyboard coefficients at time 5.0 hours: 40.0\n",
            "Temperature from keyboard coefficients at time 3.0 hours: 72.0\n",
            "Temperature from keyboard coefficients at time 2.0 hours: 47.0\n"
          ]
        }
      ]
    }
  ]
}